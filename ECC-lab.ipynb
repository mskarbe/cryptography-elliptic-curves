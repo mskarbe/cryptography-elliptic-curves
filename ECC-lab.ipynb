{
 "cells": [
  {
   "cell_type": "markdown",
   "metadata": {},
   "source": [
    "# Elliptic Curve Cryptography (ECC)\n",
    "\n",
    "Elliptic Curve Cryptography (ECC) leverages algebraic structure of elliptic curves over finite fields in order to generate public keys. It can solve the problem of performance-heavy operations with too large keys (f.ex. 2048-bit RSA), as usually for ECC 256 bits are used."
   ]
  },
  {
   "cell_type": "markdown",
   "metadata": {},
   "source": [
    "## Elliptic curve: definition \n",
    "\n",
    "Elliptic curves are defined over a field $K$ and describe points in its cartesian product $K^2$; they are smooth and projective affine algebraic structures. \n",
    "\n",
    "The Weierstrass equation of an elliptic curve $E$ over a field $K$ is [https://perso.univ-rennes1.fr/christophe.ritzenthaler/cours/elliptic-curve-course.pdf]: \n",
    "\n",
    "$$ E : y^2 + a_1xy + a_3y = x^3 + a_2x^2 + a_4x + a_6 $$\n",
    "\n",
    "what in case of the fields with characteristic different than 2 or 3 (i.e. the smallest number of summands $n$ of the field's identity element $e$ so $ne=0$), the affinitic equation of the elliptic curve can be simplified to: \n",
    "\n",
    "$$ E : y^2 = x^3 + Ax + B $$ $$A, B \\in K$$ "
   ]
  },
  {
   "cell_type": "markdown",
   "metadata": {},
   "source": [
    "## NIST elliptic curves"
   ]
  },
  {
   "cell_type": "markdown",
   "metadata": {},
   "source": [
    "## Brainpool elliptic curves"
   ]
  }
 ],
 "metadata": {
  "kernelspec": {
   "display_name": "Python 3",
   "language": "python",
   "name": "python3"
  },
  "language_info": {
   "codemirror_mode": {
    "name": "ipython",
    "version": 3
   },
   "file_extension": ".py",
   "mimetype": "text/x-python",
   "name": "python",
   "nbconvert_exporter": "python",
   "pygments_lexer": "ipython3",
   "version": "3.8.3"
  }
 },
 "nbformat": 4,
 "nbformat_minor": 4
}